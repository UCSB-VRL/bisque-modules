{
 "cells": [
  {
   "cell_type": "code",
   "execution_count": 22,
   "metadata": {},
   "outputs": [],
   "source": [
    "from globox.src import globox\n",
    "from pathlib import Path"
   ]
  },
  {
   "cell_type": "code",
   "execution_count": 70,
   "metadata": {},
   "outputs": [],
   "source": [
    "def convert_label(input_path, output_path):\n",
    "    label_path = Path(input_path)  # Where the .txt files are\n",
    "    image_path = Path(input_path)  \n",
    "    save_file = Path(output_path)\n",
    "\n",
    "    # names_file = Path(\"/home/bowen68/projects/prairie_dog/data/yolo.names\")\n",
    "    # id_to_label = globox.AnnotationSet.parse_names_file(names_file)\n",
    "    id_to_label = {\n",
    "    '0': 'fragile pink urchin',\n",
    "    '1': 'gray gorgonian',\n",
    "    '2': 'squat lobster',\n",
    "    '3': 'Basket star',\n",
    "    '4': 'Long legged sunflower star',\n",
    "    '5': 'Yellow gorgonian',\n",
    "    '6': 'White slipper sea cucumber',\n",
    "    '7': 'White spine sea cucumber',\n",
    "    '8': 'Red swiftia gorgonian',\n",
    "    '9': 'UI laced sponge',\n",
    "    }\n",
    "\n",
    "    label_to_id = {v: int(k)+1 for k, v in id_to_label.items()}\n",
    "    # print(label_to_id)\n",
    "    # imageid_to_id = {im: i for i, im in enumerate(sorted(self.image_ids))}\n",
    "    \n",
    "    # train\n",
    "    annotations = globox.AnnotationSet.from_yolo_v5(folder=label_path, image_folder=image_path).map_labels(id_to_label)\n",
    "    imageid_to_id = {im: i for i, im in enumerate(sorted(annotations.image_ids))}\n",
    "\n",
    "    annotations.show_stats()\n",
    "    annotations.save_coco(save_file, label_to_id =label_to_id, imageid_to_id=imageid_to_id, auto_ids=True, verbose=True)\n"
   ]
  },
  {
   "cell_type": "code",
   "execution_count": 71,
   "metadata": {},
   "outputs": [],
   "source": [
    "input_path = '/home/bowen/projects/bisque/Modules/SpeciesDetector/src/runs/detect/detection/labels'\n",
    "output_path = '/home/bowen/projects/bisque/Modules/SpeciesDetector/src/runs/detect/detection/labels.json'"
   ]
  },
  {
   "cell_type": "code",
   "execution_count": 72,
   "metadata": {},
   "outputs": [
    {
     "data": {
      "text/html": [
       "<pre style=\"white-space:pre;overflow-x:auto;line-height:normal;font-family:Menlo,'DejaVu Sans Mono',consolas,'Courier New',monospace\"><span style=\"font-style: italic\">              Database Stats              </span>\n",
       "┏━━━━━━━━━━━━━━━━━━━━━━━┳━━━━━━━━┳━━━━━━━┓\n",
       "┃<span style=\"font-weight: bold\"> Label                 </span>┃<span style=\"font-weight: bold\"> Images </span>┃<span style=\"font-weight: bold\"> Boxes </span>┃\n",
       "┡━━━━━━━━━━━━━━━━━━━━━━━╇━━━━━━━━╇━━━━━━━┩\n",
       "│ Red swiftia gorgonian │      9 │     9 │\n",
       "│ fragile pink urchin   │    111 │   589 │\n",
       "├───────────────────────┼────────┼───────┤\n",
       "│<span style=\"font-weight: bold\"> Total                 </span>│<span style=\"font-weight: bold\">    116 </span>│<span style=\"font-weight: bold\">   598 </span>│\n",
       "└───────────────────────┴────────┴───────┘\n",
       "</pre>\n"
      ],
      "text/plain": [
       "\u001b[3m              Database Stats              \u001b[0m\n",
       "┏━━━━━━━━━━━━━━━━━━━━━━━┳━━━━━━━━┳━━━━━━━┓\n",
       "┃\u001b[1m \u001b[0m\u001b[1mLabel                \u001b[0m\u001b[1m \u001b[0m┃\u001b[1m \u001b[0m\u001b[1mImages\u001b[0m\u001b[1m \u001b[0m┃\u001b[1m \u001b[0m\u001b[1mBoxes\u001b[0m\u001b[1m \u001b[0m┃\n",
       "┡━━━━━━━━━━━━━━━━━━━━━━━╇━━━━━━━━╇━━━━━━━┩\n",
       "│ Red swiftia gorgonian │      9 │     9 │\n",
       "│ fragile pink urchin   │    111 │   589 │\n",
       "├───────────────────────┼────────┼───────┤\n",
       "│\u001b[1m \u001b[0m\u001b[1mTotal                \u001b[0m\u001b[1m \u001b[0m│\u001b[1m \u001b[0m\u001b[1m   116\u001b[0m\u001b[1m \u001b[0m│\u001b[1m \u001b[0m\u001b[1m  598\u001b[0m\u001b[1m \u001b[0m│\n",
       "└───────────────────────┴────────┴───────┘\n"
      ]
     },
     "metadata": {},
     "output_type": "display_data"
    },
    {
     "name": "stderr",
     "output_type": "stream",
     "text": [
      "Saving: 100%|██████████| 116/116 [00:00<00:00, 40024.62it/s]\n"
     ]
    }
   ],
   "source": [
    "convert_label(input_path, output_path)"
   ]
  },
  {
   "cell_type": "code",
   "execution_count": null,
   "metadata": {},
   "outputs": [],
   "source": []
  }
 ],
 "metadata": {
  "kernelspec": {
   "display_name": "bisque",
   "language": "python",
   "name": "python3"
  },
  "language_info": {
   "codemirror_mode": {
    "name": "ipython",
    "version": 3
   },
   "file_extension": ".py",
   "mimetype": "text/x-python",
   "name": "python",
   "nbconvert_exporter": "python",
   "pygments_lexer": "ipython3",
   "version": "3.6.13"
  },
  "orig_nbformat": 4,
  "vscode": {
   "interpreter": {
    "hash": "8fd377d10f176038726adb07d433fa1d261641da3d903f165a863b195d80a320"
   }
  }
 },
 "nbformat": 4,
 "nbformat_minor": 2
}
